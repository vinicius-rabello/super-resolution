{
 "cells": [
  {
   "cell_type": "code",
   "execution_count": null,
   "metadata": {},
   "outputs": [],
   "source": [
    "import numpy as np\n",
    "import matplotlib.pyplot as plt"
   ]
  },
  {
   "cell_type": "code",
   "execution_count": null,
   "metadata": {},
   "outputs": [],
   "source": [
    "def plotField2(ax, psi, Lx, Ly):\n",
    "    x = np.linspace(0, Lx, psi.shape[0])\n",
    "    y = np.linspace(0, Ly, psi.shape[1])\n",
    "    X, Y = np.meshgrid(x, y)\n",
    "    levels = np.linspace(-2.5, 2.5, 10)\n",
    "    #ax.set_cmap('bwr')\n",
    "    contour = ax.contourf(X, Y, np.transpose(psi), levels=levels)\n",
    "    plt.colorbar(contour, ax=ax, label='Value"
   ]
  },
  {
   "cell_type": "code",
   "execution_count": null,
   "metadata": {},
   "outputs": [],
   "source": []
  },
  {
   "cell_type": "code",
   "execution_count": null,
   "metadata": {},
   "outputs": [],
   "source": []
  }
 ],
 "metadata": {
  "language_info": {
   "name": "python"
  }
 },
 "nbformat": 4,
 "nbformat_minor": 2
}
