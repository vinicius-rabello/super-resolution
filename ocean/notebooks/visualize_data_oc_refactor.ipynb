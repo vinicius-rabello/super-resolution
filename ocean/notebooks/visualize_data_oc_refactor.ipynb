{
 "cells": [
  {
   "cell_type": "code",
   "execution_count": 1,
   "metadata": {},
   "outputs": [],
   "source": [
    "import numpy as np\n",
    "import matplotlib.pyplot as plt\n",
    "import os\n",
    "import torch"
   ]
  },
  {
   "cell_type": "code",
   "execution_count": 33,
   "metadata": {},
   "outputs": [],
   "source": [
    "data = np.load('../data/ocean/M1_1.npy')\n",
    "psi1 = data[0:150]\n",
    "psi2 = data[150:]\n",
    "\n",
    "Nx = 40*2*2\n",
    "Ny = 68*2*2\n",
    "\n",
    "psi1 = torch.tensor(psi1.reshape(150, Ny, Nx))\n",
    "psi2 = torch.tensor(psi2.reshape(150, Ny, Nx))"
   ]
  },
  {
   "cell_type": "code",
   "execution_count": 35,
   "metadata": {},
   "outputs": [
    {
     "data": {
      "text/plain": [
       "torch.Size([150, 272, 160])"
      ]
     },
     "execution_count": 35,
     "metadata": {},
     "output_type": "execute_result"
    }
   ],
   "source": [
    "psi2.shape"
   ]
  },
  {
   "cell_type": "code",
   "execution_count": 23,
   "metadata": {},
   "outputs": [
    {
     "data": {
      "text/plain": [
       "[0, 272]"
      ]
     },
     "execution_count": 23,
     "metadata": {},
     "output_type": "execute_result"
    }
   ],
   "source": [
    "\n",
    "\n",
    "Ny_mesh, Nx_mesh = torch.meshgrid(torch.arange(Ny),torch.arange(Nx))\n",
    "lat_idx, lon_idx = [0, len(Ny_mesh)], [0, len(Nx_mesh)]\n",
    "lon_idx"
   ]
  },
  {
   "cell_type": "code",
   "execution_count": 32,
   "metadata": {},
   "outputs": [
    {
     "data": {
      "text/plain": [
       "torch.Size([150, 272, 160])"
      ]
     },
     "execution_count": 32,
     "metadata": {},
     "output_type": "execute_result"
    }
   ],
   "source": [
    "psi2.shape"
   ]
  },
  {
   "cell_type": "code",
   "execution_count": 30,
   "metadata": {},
   "outputs": [
    {
     "name": "stderr",
     "output_type": "stream",
     "text": [
      "/tmp/ipykernel_146283/2858429134.py:1: UserWarning: To copy construct from a tensor, it is recommended to use sourceTensor.clone().detach() or sourceTensor.clone().detach().requires_grad_(True), rather than torch.tensor(sourceTensor).\n",
      "  psi1 = torch.tensor(psi1.reshape(psi1.shape[0], Ny, Nx)[:,lat_idx[0]:lat_idx[1], lon_idx[0]:lon_idx[1]])\n"
     ]
    }
   ],
   "source": [
    "psi1 = torch.tensor(psi1.reshape(psi1.shape[0], Ny, Nx)[:,lat_idx[0]:lat_idx[1], lon_idx[0]:lon_idx[1]])\n",
    "psi2 = torch.tensor(psi2.reshape(psi2.shape[0], Ny, Nx)[:,lat_idx[0]:lat_idx[1], lon_idx[0]:lon_idx[1]])"
   ]
  },
  {
   "cell_type": "code",
   "execution_count": 4,
   "metadata": {},
   "outputs": [
    {
     "data": {
      "text/plain": [
       "(300, 43520)"
      ]
     },
     "execution_count": 4,
     "metadata": {},
     "output_type": "execute_result"
    }
   ],
   "source": [
    "data.shape"
   ]
  },
  {
   "cell_type": "code",
   "execution_count": null,
   "metadata": {},
   "outputs": [],
   "source": [
    "Ny_mesh, Nx_mesh = torch.meshgrid(torch.arange(self.Ny),torch.arange(self.Nx))\n",
    "lat_idx, lon_idx = self.get_indices_from_proportion(Ny_mesh, Nx_mesh, subwindow)\n",
    "\n",
    "psi1 = torch.tensor(psi1.reshape(psi1.shape[0],\n",
    "                                self.Ny,self.Nx)[:,\n",
    "                                            lat_idx[0]:lat_idx[1],\n",
    "                                            lon_idx[0]:lon_idx[1]])\n",
    "\n",
    "psi2 = torch.tensor(psi2.reshape(psi2.shape[0],\n",
    "                                self.Ny,self.Nx)[:,\n",
    "                                            lat_idx[0]:lat_idx[1],\n",
    "                                            lon_idx[0]:lon_idx[1]])"
   ]
  }
 ],
 "metadata": {
  "kernelspec": {
   "display_name": "venv",
   "language": "python",
   "name": "python3"
  },
  "language_info": {
   "codemirror_mode": {
    "name": "ipython",
    "version": 3
   },
   "file_extension": ".py",
   "mimetype": "text/x-python",
   "name": "python",
   "nbconvert_exporter": "python",
   "pygments_lexer": "ipython3",
   "version": "3.12.2"
  }
 },
 "nbformat": 4,
 "nbformat_minor": 2
}
